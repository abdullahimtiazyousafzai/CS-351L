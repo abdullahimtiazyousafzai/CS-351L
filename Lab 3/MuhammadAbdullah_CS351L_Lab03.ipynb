{
  "nbformat": 4,
  "nbformat_minor": 0,
  "metadata": {
    "colab": {
      "provenance": []
    },
    "kernelspec": {
      "name": "python3",
      "display_name": "Python 3"
    },
    "language_info": {
      "name": "python"
    }
  },
  "cells": [
    {
      "cell_type": "markdown",
      "source": [
        "# **CS 351 Lab 3**\n",
        "## Introduction to Constraint Satisfaction Problems (CSP)\n"
      ],
      "metadata": {
        "id": "XIakfXGUmZlW"
      }
    },
    {
      "cell_type": "markdown",
      "source": [
        "## **Student Details**\n",
        "\n",
        "### **Name:** Muhammad Abdullah\n",
        "### **Reg:** 2022323\n"
      ],
      "metadata": {
        "id": "ZSq4JJ9xmmJo"
      }
    },
    {
      "cell_type": "markdown",
      "source": [
        "## **Lab Task**"
      ],
      "metadata": {
        "id": "RDHPND21m2c4"
      }
    },
    {
      "cell_type": "markdown",
      "source": [
        "In this lab, I am provided with a graph coloring problem, implemented using\n",
        "backtracking with two heuristic options: Minimum Remaining Values (MRV) and\n",
        "Degree Heuristic.\n",
        "The task is to come up with a new scenario based on real-world graph coloring\n",
        "applications, such as:\n",
        "• Scheduling problems (e.g., exam scheduling where rooms and time slots need to\n",
        "be assigned without conflicts).\n",
        "• Map coloring (e.g., coloring regions of a map where no two adjacent regions can\n",
        "have the same color).\n",
        "• Resource allocation (e.g., allocating limited resources like CPU tasks)."
      ],
      "metadata": {
        "id": "NQmBiy-rm62A"
      }
    },
    {
      "cell_type": "markdown",
      "source": [
        "### **My Scenario**"
      ],
      "metadata": {
        "id": "5Oy9yHEco_I8"
      }
    },
    {
      "cell_type": "markdown",
      "source": [
        "**Problem Statement:**\n",
        "You are managing traffic lights at multiple intersections. Each intersection needs to have a traffic light system that works without conflict with nearby intersections. If two intersections are close enough that their traffic flows can interfere with each other, they must be assigned different light cycles (colors).\n",
        "\n",
        "In this case:\n",
        "\n",
        "Nodes will represent intersections.\n",
        "Edges will represent conflicts between intersections (e.g., if two intersections are close to each other and thus need different signals).\n",
        "\n",
        "Traffic Light Example:\n",
        "Let’s say we have 6 intersections, and the following intersections have traffic flow conflicts:\n",
        "\n",
        "Intersection 0 conflicts with Intersection 1.\n",
        "\n",
        "Intersection 1 conflicts with Intersection 2 and 3.\n",
        "\n",
        "Intersection 3 conflicts with Intersection 4.\n",
        "\n",
        "Intersection 4 conflicts with Intersection 5.\n",
        "\n",
        "\n",
        "\n",
        "Modified Code for Traffic Lights:\n",
        "We can use our previous graph coloring code to solve this problem by automatically generating a random graph where intersections are the nodes, and conflicts are the edges. The traffic light system will assign colors (light cycles) to each intersection, ensuring no two conflicting intersections have the same color (cycle)."
      ],
      "metadata": {
        "id": "x3WZNsEgpEWc"
      }
    },
    {
      "cell_type": "code",
      "source": [
        "import networkx as nx\n",
        "import matplotlib.pyplot as plt\n",
        "\n",
        "# Step 1: Define traffic light colors (e.g., Red, Green, Yellow, Blue)\n",
        "def generate_traffic_light_colors(num_intersections):\n",
        "    color_list = ['#FF0000', '#00FF00', '#FFFF00', '#0000FF']  # Red, Green, Yellow, Blue\n",
        "    return color_list[:min(num_intersections, len(color_list))]\n",
        "\n",
        "# Step 2: Create a graph to represent traffic intersections and conflicts\n",
        "def create_traffic_light_graph():\n",
        "    G = nx.Graph()\n",
        "\n",
        "    # Add nodes for intersections\n",
        "    G.add_nodes_from([0, 1, 2, 3, 4, 5])\n",
        "\n",
        "    # Add edges for conflicts between intersections\n",
        "    G.add_edges_from([(0, 1), (1, 2), (1, 3), (3, 4), (4, 5)])\n",
        "\n",
        "    return G\n",
        "\n",
        "# Step 3: Visualize the traffic light assignment\n",
        "def visualize_traffic_lights(G, assignment, pos):\n",
        "    plt.figure(figsize=(8, 8))\n",
        "\n",
        "    # Default color is white for uncolored intersections\n",
        "    node_colors = ['#FFFFFF'] * len(G.nodes)\n",
        "\n",
        "    # Apply the assigned colors\n",
        "    for node, color in assignment.items():\n",
        "        node_colors[node] = color\n",
        "\n",
        "    # Draw the graph with the assigned colors\n",
        "    nx.draw(G, pos, with_labels=True, node_color=node_colors, node_size=1000, font_size=16,\n",
        "            font_color='black', edge_color='black', linewidths=2, edgecolors='black')\n",
        "\n",
        "    plt.show()\n",
        "\n",
        "# Step 4: Check if a color assignment is valid (no neighboring intersections share the same color)\n",
        "def is_valid_light_cycle(G, node, color, assignment):\n",
        "    for neighbor in G.neighbors(node):\n",
        "        if neighbor in assignment and assignment[neighbor] == color:\n",
        "            return False\n",
        "    return True\n",
        "\n",
        "# Step 5: Backtracking function to assign light cycles\n",
        "def backtrack(G, assignment, colors, pos):\n",
        "    if len(assignment) == len(G.nodes):\n",
        "        return assignment  # All intersections are colored\n",
        "\n",
        "    # Choose the next uncolored node (intersection)\n",
        "    uncolored_nodes = [node for node in G.nodes if node not in assignment]\n",
        "    node = uncolored_nodes[0]  # Take the first uncolored node (simplified selection)\n",
        "\n",
        "    # Try assigning each color to the node\n",
        "    for color in colors:\n",
        "        if is_valid_light_cycle(G, node, color, assignment):\n",
        "            assignment[node] = color  # Assign the color\n",
        "            visualize_traffic_lights(G, assignment, pos)  # Visualize current state\n",
        "\n",
        "            result = backtrack(G, assignment, colors, pos)\n",
        "            if result:\n",
        "                return result  # Return valid assignment if found\n",
        "            del assignment[node]  # Backtrack if the color assignment doesn't work\n",
        "\n",
        "    return None  # No valid solution found, backtrack\n",
        "\n",
        "# Step 6: Main function to solve the traffic light problem\n",
        "def traffic_light_system():\n",
        "    num_intersections = 6  # Number of intersections\n",
        "\n",
        "    # Generate traffic light colors\n",
        "    colors = generate_traffic_light_colors(num_intersections)\n",
        "\n",
        "    # Create the graph with traffic intersections and conflicts\n",
        "    G = create_traffic_light_graph()\n",
        "\n",
        "    # Generate graph layout for visualization\n",
        "    pos = nx.spring_layout(G, seed=42)\n",
        "\n",
        "    # Solve the traffic light assignment problem using backtracking\n",
        "    final_assignment = backtrack(G, {}, colors, pos)\n",
        "\n",
        "    # Output the final assignment\n",
        "    print(\"Final Traffic Light Assignment:\", final_assignment)\n",
        "\n",
        "# Run the traffic light system\n",
        "traffic_light_system()\n"
      ],
      "metadata": {
        "id": "WXeOY9EkpnOs"
      },
      "execution_count": null,
      "outputs": []
    }
  ]
}