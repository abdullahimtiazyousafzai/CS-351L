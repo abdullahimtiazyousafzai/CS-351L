{
  "nbformat": 4,
  "nbformat_minor": 0,
  "metadata": {
    "colab": {
      "provenance": [],
      "toc_visible": true
    },
    "kernelspec": {
      "name": "python3",
      "display_name": "Python 3"
    },
    "language_info": {
      "name": "python"
    }
  },
  "cells": [
    {
      "cell_type": "markdown",
      "source": [
        "# **CS 351 Lab 2**"
      ],
      "metadata": {
        "id": "Hd_WhliYwOZW"
      }
    },
    {
      "cell_type": "markdown",
      "source": [
        "## Introduction to search in AI: Problem spaces, states, and goals\n"
      ],
      "metadata": {
        "id": "knVJPg-vz4GZ"
      }
    },
    {
      "cell_type": "markdown",
      "source": [
        "## **Student Details:**"
      ],
      "metadata": {
        "id": "fXNc5I0_0eWD"
      }
    },
    {
      "cell_type": "markdown",
      "source": [
        "### Muhammad Abdullah - 2022323"
      ],
      "metadata": {
        "id": "j02zzHVj0p5f"
      }
    },
    {
      "cell_type": "markdown",
      "source": [
        "### **Task Description:**"
      ],
      "metadata": {
        "id": "gFOpcH_58osY"
      }
    },
    {
      "cell_type": "markdown",
      "source": [
        "In this game, I started with an existing Treasure Hunt game and made some changes to adapt it. Here's a breakdown of what I did:\n",
        "\n",
        "Game Objective:\n",
        "The player (represented by 'P') needs to reach the exit ('E') while avoiding being caught by the enemy ('C'). The game is played on a grid filled with obstacles ('X'), which block movement.\n",
        "\n",
        "Key Changes and Features:\n",
        "Grid Creation:\n",
        "\n",
        "I created a 10x10 grid where the player, enemy, exit, and obstacles are placed. The obstacles take up 20% of the grid, randomly positioned, making the game more challenging.\n",
        "Player and Enemy Positions:\n",
        "\n",
        "The player always starts at the top-left corner (0,0), and the exit is placed at the bottom-right corner.\n",
        "The enemy is randomly placed on the grid, but it can't start at the same position as the player or exit.\n",
        "Player Movement:\n",
        "\n",
        "I let the player move using the W (up), A (left), S (down), and D (right) keys. If the player tries to move into an obstacle or off the grid, the move is invalid.\n",
        "*Enemy AI (A Algorithm)**:\n",
        "\n",
        "I changed the enemy's behavior by implementing the A algorithm*. The enemy uses this to find the shortest path to the player’s current position.\n",
        "The A* algorithm uses Manhattan distance as the heuristic and makes the enemy smarter, as it strategically moves towards the player by calculating the most efficient route around obstacles.\n",
        "Game Loop:\n",
        "\n",
        "The game continues in a loop where the player makes a move and then the enemy follows using the A* algorithm. The game ends when the player reaches the exit or is caught by the enemy.\n",
        "Visuals:\n",
        "\n",
        "I added a simple grid display to make it easier to visualize the game. After each move, the grid is reprinted to show the current positions of the player, enemy, obstacles, and exit.\n",
        "By integrating the A* algorithm, I made the enemy smarter, adding more strategy and challenge to the game compared to the original Treasure Hunt version."
      ],
      "metadata": {
        "id": "WoHeKnUN7EkM"
      }
    },
    {
      "cell_type": "markdown",
      "source": [
        "### **Code:**"
      ],
      "metadata": {
        "id": "w8uH7uFT8w-J"
      }
    },
    {
      "cell_type": "code",
      "execution_count": null,
      "metadata": {
        "id": "mYrKi6Om7o06"
      },
      "outputs": [],
      "source": [
        "import heapq\n",
        "import random\n",
        "import os\n",
        "\n",
        "# Clear the console (works on Windows and Unix)\n",
        "def clear_console():\n",
        "    os.system('cls' if os.name == 'nt' else 'clear')\n",
        "\n",
        "# Define the grid size\n",
        "GRID_SIZE = 10\n",
        "\n",
        "# Create the grid\n",
        "def create_grid(size):\n",
        "    grid = [[' ' for _ in range(size)] for _ in range(size)]\n",
        "    return grid\n",
        "\n",
        "# Place the player, enemy, exit, and obstacles on the grid\n",
        "def initialize_game(grid):\n",
        "    size = len(grid)\n",
        "\n",
        "    # Place the player ('P')\n",
        "    player_pos = (0, 0)\n",
        "    grid[player_pos[0]][player_pos[1]] = 'P'\n",
        "\n",
        "    # Place the exit ('E') at the bottom-right corner\n",
        "    exit_pos = (size - 1, size - 1)\n",
        "    grid[exit_pos[0]][exit_pos[1]] = 'E'\n",
        "\n",
        "    # Place the enemy ('C') at a random position not occupied by player or exit\n",
        "    while True:\n",
        "        enemy_pos = (random.randint(0, size - 1), random.randint(0, size - 1))\n",
        "        if enemy_pos != player_pos and enemy_pos != exit_pos:\n",
        "            grid[enemy_pos[0]][enemy_pos[1]] = 'C'\n",
        "            break\n",
        "\n",
        "    # Add obstacles ('X')\n",
        "    num_obstacles = int(size * size * 0.2)  # 20% of the grid cells are obstacles\n",
        "    obstacles = set()\n",
        "    while len(obstacles) < num_obstacles:\n",
        "        obstacle_pos = (random.randint(0, size - 1), random.randint(0, size - 1))\n",
        "        if obstacle_pos not in [player_pos, enemy_pos, exit_pos] and grid[obstacle_pos[0]][obstacle_pos[1]] == ' ':\n",
        "            grid[obstacle_pos[0]][obstacle_pos[1]] = 'X'\n",
        "            obstacles.add(obstacle_pos)\n",
        "\n",
        "    return player_pos, enemy_pos, exit_pos\n",
        "\n",
        "# Check if a position is within the grid and not blocked\n",
        "def is_valid_position(grid, pos):\n",
        "    size = len(grid)\n",
        "    x, y = pos\n",
        "    return 0 <= x < size and 0 <= y < size and grid[x][y] != 'X'\n",
        "\n",
        "# Heuristic function for A* (Manhattan distance)\n",
        "def heuristic(a, b):\n",
        "    return abs(a[0] - b[0]) + abs(a[1] - b[1])\n",
        "\n",
        "# A* algorithm to find the shortest path\n",
        "def a_star(grid, start, goal):\n",
        "    open_list = []\n",
        "    heapq.heappush(open_list, (0, start))\n",
        "\n",
        "    came_from = {}\n",
        "    g_score = {start: 0}\n",
        "\n",
        "    while open_list:\n",
        "        _, current = heapq.heappop(open_list)\n",
        "\n",
        "        if current == goal:\n",
        "            break\n",
        "\n",
        "        neighbors = [\n",
        "            (current[0] - 1, current[1]),  # Up\n",
        "            (current[0] + 1, current[1]),  # Down\n",
        "            (current[0], current[1] - 1),  # Left\n",
        "            (current[0], current[1] + 1)   # Right\n",
        "        ]\n",
        "\n",
        "        for neighbor in neighbors:\n",
        "            if is_valid_position(grid, neighbor):\n",
        "                tentative_g_score = g_score[current] + 1\n",
        "\n",
        "                if neighbor not in g_score or tentative_g_score < g_score[neighbor]:\n",
        "                    came_from[neighbor] = current\n",
        "                    g_score[neighbor] = tentative_g_score\n",
        "                    f_score = tentative_g_score + heuristic(neighbor, goal)\n",
        "                    heapq.heappush(open_list, (f_score, neighbor))\n",
        "\n",
        "    # Reconstruct path\n",
        "    path = []\n",
        "    current = goal\n",
        "    while current in came_from:\n",
        "        path.append(current)\n",
        "        current = came_from[current]\n",
        "    path.reverse()\n",
        "    return path\n",
        "\n",
        "# Print the grid\n",
        "def print_grid(grid):\n",
        "    size = len(grid)\n",
        "    print('-' * (size * 4 + 1))\n",
        "    for row in grid:\n",
        "        print('| ' + ' | '.join(row) + ' |')\n",
        "        print('-' * (size * 4 + 1))\n",
        "\n",
        "# Game loop\n",
        "def game_loop():\n",
        "    grid = create_grid(GRID_SIZE)\n",
        "    player_pos, enemy_pos, exit_pos = initialize_game(grid)\n",
        "\n",
        "    while True:\n",
        "        clear_console()\n",
        "        print(\"Objective: Reach the exit 'E' without being caught by the enemy 'C'.\")\n",
        "        print_grid(grid)\n",
        "\n",
        "        # Check for win or lose conditions\n",
        "        if player_pos == exit_pos:\n",
        "            print(\"Congratulations! You've reached the exit safely.\")\n",
        "            break\n",
        "        if player_pos == enemy_pos:\n",
        "            print(\"Oh no! The enemy has caught you.\")\n",
        "            break\n",
        "\n",
        "        # Player's turn\n",
        "        move = input(\"Move (W/A/S/D): \").upper()\n",
        "        dx, dy = 0, 0\n",
        "        if move == 'W':\n",
        "            dx, dy = -1, 0\n",
        "        elif move == 'S':\n",
        "            dx, dy = 1, 0\n",
        "        elif move == 'A':\n",
        "            dx, dy = 0, -1\n",
        "        elif move == 'D':\n",
        "            dx, dy = 0, 1\n",
        "        else:\n",
        "            print(\"Invalid move. Use W/A/S/D keys.\")\n",
        "            continue\n",
        "\n",
        "        new_player_pos = (player_pos[0] + dx, player_pos[1] + dy)\n",
        "        if is_valid_position(grid, new_player_pos):\n",
        "            grid[player_pos[0]][player_pos[1]] = ' '  # Clear old position\n",
        "            player_pos = new_player_pos\n",
        "            grid[player_pos[0]][player_pos[1]] = 'P'  # Update new position\n",
        "        else:\n",
        "            print(\"You can't move there!\")\n",
        "            continue\n",
        "\n",
        "        # Enemy's turn using A* to find the shortest path to the player's new position\n",
        "        path = a_star(grid, enemy_pos, player_pos)\n",
        "\n",
        "        if path:\n",
        "            grid[enemy_pos[0]][enemy_pos[1]] = ' '  # Clear old enemy position\n",
        "            enemy_pos = path[0]  # Move enemy one step along the path\n",
        "            grid[enemy_pos[0]][enemy_pos[1]] = 'C'  # Update enemy's position\n",
        "        else:\n",
        "            print(\"Enemy can't reach you!\")\n",
        "\n",
        "# Run the game\n",
        "if __name__ == \"__main__\":\n",
        "    game_loop()\n"
      ]
    },
    {
      "cell_type": "markdown",
      "source": [],
      "metadata": {
        "id": "AIyvk6uZ5Lvq"
      }
    }
  ]
}